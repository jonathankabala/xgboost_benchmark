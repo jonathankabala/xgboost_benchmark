{
 "cells": [
  {
   "cell_type": "code",
   "execution_count": 4,
   "id": "3d395e14",
   "metadata": {},
   "outputs": [],
   "source": [
    "import matplotlib.pyplot as plt\n",
    "import pandas as pd\n",
    "from mpl_toolkits.mplot3d import Axes3D \n",
    "from utils import make_synthetic_binary"
   ]
  },
  {
   "cell_type": "code",
   "execution_count": null,
   "id": "76b04edd",
   "metadata": {},
   "outputs": [],
   "source": [
    "def plot_univariate_gaussians( mean_a, std_a, mean_b, std_b, sample_size=10000, bins=30):\n",
    "\n",
    "    X, y = make_synthetic_binary(\n",
    "        n_samples=10000,\n",
    "        n_features=1,\n",
    "        mean_a=mean_a,\n",
    "        std_a=std_a,\n",
    "        mean_b=mean_b,\n",
    "        std_b=std_b,\n",
    "        seed=42\n",
    "    )\n",
    "\n",
    "    class0 = X[y == 0, 0]\n",
    "    class1 = X[y == 1, 0]\n",
    "\n",
    "    plt.figure(figsize=(8, 5))\n",
    "    plt.hist(class0, bins=bins, density=True, alpha=0.6, label=f\"Class A (mean={mean_a}, std={std_a})\")\n",
    "    plt.hist(class1, bins=bins, density=True, alpha=0.6, label=f\"Class B (mean={mean_b}, std={std_b})\")\n",
    "\n",
    "    plt.xlabel(\"Feature value\")\n",
    "    plt.ylabel(\"Density\")\n",
    "    plt.title(\"Overlapping Univariate Gaussians\")\n",
    "    plt.legend()\n",
    "    plt.show()"
   ]
  },
  {
   "cell_type": "code",
   "execution_count": null,
   "id": "eae198a0",
   "metadata": {},
   "outputs": [],
   "source": [
    "def plot_2d_gaussians(mean_a, std_a, mean_b, std_b, sample_size=10000):\n",
    "\n",
    "\n",
    "    X, y = make_synthetic_binary(\n",
    "        n_samples=sample_size,\n",
    "        n_features=2,\n",
    "        mean_a=mean_a,\n",
    "        std_a=std_a,\n",
    "        mean_b=mean_b,\n",
    "        std_b=std_b,\n",
    "        seed=42\n",
    "    )\n",
    "    class0 = X[y == 0]\n",
    "    class1 = X[y == 1]\n",
    "\n",
    "    plt.figure(figsize=(6, 6))\n",
    "    plt.scatter(class0[:, 0], class0[:, 1], alpha=0.5, label=f\"Class A (mean={mean_a}, std={std_a})\", s=10)\n",
    "    plt.scatter(class1[:, 0], class1[:, 1], alpha=0.5, label=f\"Class B (mean={mean_b}, std={std_b})\", s=10)\n",
    "\n",
    "    plt.xlabel(\"Feature 1\")\n",
    "    plt.ylabel(\"Feature 2\")\n",
    "    plt.title(\"Overlapping 2D Gaussians\")\n",
    "    plt.legend()\n",
    "    plt.show()"
   ]
  },
  {
   "cell_type": "code",
   "execution_count": null,
   "id": "4dc30278",
   "metadata": {},
   "outputs": [],
   "source": [
    "\n",
    "def plot_3d_gaussians(mean_a, std_a, mean_b, std_b, sample_size=10000):\n",
    "    X, y = make_synthetic_binary(\n",
    "        n_samples=sample_size,\n",
    "        n_features=3,\n",
    "        mean_a=mean_a,\n",
    "        std_a=std_a,\n",
    "        mean_b=mean_b,\n",
    "        std_b=std_b,\n",
    "        seed=42,\n",
    "    )\n",
    "\n",
    "    class0 = X[y == 0]\n",
    "    class1 = X[y == 1]\n",
    "\n",
    "    fig = plt.figure(figsize=(7, 7))\n",
    "    ax = fig.add_subplot(111, projection=\"3d\")\n",
    "\n",
    "    ax.scatter(class0[:, 0], class0[:, 1], class0[:, 2],\n",
    "               alpha=0.5, s=8, label=f\"Class A (mean={mean_a}, std={std_a})\")\n",
    "    ax.scatter(class1[:, 0], class1[:, 1], class1[:, 2],\n",
    "               alpha=0.5, s=8, label=f\"Class B (mean={mean_b}, std={std_b})\")\n",
    "\n",
    "    ax.set_xlabel(\"Feature 1\")\n",
    "    ax.set_ylabel(\"Feature 2\")\n",
    "    ax.set_zlabel(\"Feature 3\")\n",
    "    ax.set_title(\"Overlapping 3D Gaussians\")\n",
    "    ax.legend(loc=\"upper right\")\n",
    "\n",
    "    # optional: make axes roughly equal for a nicer shape\n",
    "    def _set_equal_3d(ax):\n",
    "        x_limits = ax.get_xlim3d()\n",
    "        y_limits = ax.get_ylim3d()\n",
    "        z_limits = ax.get_zlim3d()\n",
    "        x_range = x_limits[1] - x_limits[0]\n",
    "        y_range = y_limits[1] - y_limits[0]\n",
    "        z_range = z_limits[1] - z_limits[0]\n",
    "        plot_radius = 0.5 * max(x_range, y_range, z_range)\n",
    "        x_mid = 0.5 * sum(x_limits)\n",
    "        y_mid = 0.5 * sum(y_limits)\n",
    "        z_mid = 0.5 * sum(z_limits)\n",
    "        ax.set_xlim3d([x_mid - plot_radius, x_mid + plot_radius])\n",
    "        ax.set_ylim3d([y_mid - plot_radius, y_mid + plot_radius])\n",
    "        ax.set_zlim3d([z_mid - plot_radius, z_mid + plot_radius])\n",
    "\n",
    "    _set_equal_3d(ax)\n",
    "    plt.show()\n"
   ]
  },
  {
   "cell_type": "code",
   "execution_count": null,
   "id": "86dc4526",
   "metadata": {},
   "outputs": [],
   "source": [
    "std_a = 1.0\n",
    "std_b = 1.0\n",
    "\n",
    "mean_a = 1.0\n",
    "mean_b = 2.0\n",
    "plot_univariate_gaussians(mean_a, std_a, mean_b, std_b, bins=30)\n"
   ]
  },
  {
   "cell_type": "code",
   "execution_count": null,
   "id": "77a5d937",
   "metadata": {},
   "outputs": [],
   "source": [
    "plot_2d_gaussians(mean_a, std_a, mean_b, std_b)"
   ]
  },
  {
   "cell_type": "code",
   "execution_count": null,
   "id": "9929d539",
   "metadata": {},
   "outputs": [],
   "source": [
    "plot_3d_gaussians(mean_a, std_a, mean_b, std_b)"
   ]
  },
  {
   "cell_type": "code",
   "execution_count": 13,
   "id": "895c819d",
   "metadata": {},
   "outputs": [],
   "source": [
    "files = {\n",
    "    \"py cpu 1M\": \"logs_dev/pyxgboost/cpu_1M_20250919_092920/cpu_benchmark_detailed_times.csv\",\n",
    "    \"h2o cpu 1M\": \"logs_dev/h2oxgboost/cpu_1M_20250919_094350/cpu_benchmark_detailed_times.csv\",\n",
    "    # \"py gpu 1M\": \"logs_dev/pyxgboost/gpu_1M_20250919_092920/gpu_benchmark_detailed_times.csv\"\n",
    "}"
   ]
  },
  {
   "cell_type": "code",
   "execution_count": 22,
   "id": "714599d7",
   "metadata": {},
   "outputs": [
    {
     "data": {
      "text/html": [
       "<div>\n",
       "<style scoped>\n",
       "    .dataframe tbody tr th:only-of-type {\n",
       "        vertical-align: middle;\n",
       "    }\n",
       "\n",
       "    .dataframe tbody tr th {\n",
       "        vertical-align: top;\n",
       "    }\n",
       "\n",
       "    .dataframe thead th {\n",
       "        text-align: right;\n",
       "    }\n",
       "</style>\n",
       "<table border=\"1\" class=\"dataframe\">\n",
       "  <thead>\n",
       "    <tr style=\"text-align: right;\">\n",
       "      <th></th>\n",
       "      <th>data_time_s</th>\n",
       "      <th>full_train_total_s</th>\n",
       "      <th>boost_step_estm_s</th>\n",
       "      <th>n_boost_per_sec</th>\n",
       "      <th>test_accuracy</th>\n",
       "      <th>train_logloss</th>\n",
       "      <th>test_logloss</th>\n",
       "    </tr>\n",
       "  </thead>\n",
       "  <tbody>\n",
       "    <tr>\n",
       "      <th>0</th>\n",
       "      <td>1.782836</td>\n",
       "      <td>15.478676</td>\n",
       "      <td>0.154787</td>\n",
       "      <td>6.460501</td>\n",
       "      <td>0.994788</td>\n",
       "      <td>0.011469</td>\n",
       "      <td>0.015969</td>\n",
       "    </tr>\n",
       "    <tr>\n",
       "      <th>1</th>\n",
       "      <td>1.460497</td>\n",
       "      <td>15.426158</td>\n",
       "      <td>0.154262</td>\n",
       "      <td>6.482496</td>\n",
       "      <td>0.994788</td>\n",
       "      <td>0.011469</td>\n",
       "      <td>0.015969</td>\n",
       "    </tr>\n",
       "    <tr>\n",
       "      <th>2</th>\n",
       "      <td>1.672506</td>\n",
       "      <td>15.714014</td>\n",
       "      <td>0.157140</td>\n",
       "      <td>6.363747</td>\n",
       "      <td>0.994788</td>\n",
       "      <td>0.011469</td>\n",
       "      <td>0.015969</td>\n",
       "    </tr>\n",
       "    <tr>\n",
       "      <th>3</th>\n",
       "      <td>1.600195</td>\n",
       "      <td>15.564987</td>\n",
       "      <td>0.155650</td>\n",
       "      <td>6.424676</td>\n",
       "      <td>0.994788</td>\n",
       "      <td>0.011469</td>\n",
       "      <td>0.015969</td>\n",
       "    </tr>\n",
       "    <tr>\n",
       "      <th>4</th>\n",
       "      <td>1.729179</td>\n",
       "      <td>15.663744</td>\n",
       "      <td>0.156637</td>\n",
       "      <td>6.384170</td>\n",
       "      <td>0.994788</td>\n",
       "      <td>0.011469</td>\n",
       "      <td>0.015969</td>\n",
       "    </tr>\n",
       "  </tbody>\n",
       "</table>\n",
       "</div>"
      ],
      "text/plain": [
       "   data_time_s  full_train_total_s  boost_step_estm_s  n_boost_per_sec  \\\n",
       "0     1.782836           15.478676           0.154787         6.460501   \n",
       "1     1.460497           15.426158           0.154262         6.482496   \n",
       "2     1.672506           15.714014           0.157140         6.363747   \n",
       "3     1.600195           15.564987           0.155650         6.424676   \n",
       "4     1.729179           15.663744           0.156637         6.384170   \n",
       "\n",
       "   test_accuracy  train_logloss  test_logloss  \n",
       "0       0.994788       0.011469      0.015969  \n",
       "1       0.994788       0.011469      0.015969  \n",
       "2       0.994788       0.011469      0.015969  \n",
       "3       0.994788       0.011469      0.015969  \n",
       "4       0.994788       0.011469      0.015969  "
      ]
     },
     "execution_count": 22,
     "metadata": {},
     "output_type": "execute_result"
    }
   ],
   "source": [
    "df.head()"
   ]
  },
  {
   "cell_type": "code",
   "execution_count": 24,
   "id": "34b5f2ce",
   "metadata": {},
   "outputs": [],
   "source": [
    "def plot_line_plots(files, column, title=\"\"):\n",
    "    for experiment, file in files.items():\n",
    "        df = pd.read_csv(file)\n",
    "        plt.plot(df.index, df[column], label=experiment)\n",
    "\n",
    "    plt.legend()\n",
    "    plt.title(title)\n",
    "    plt.show()\n",
    "    # break"
   ]
  },
  {
   "cell_type": "code",
   "execution_count": 27,
   "id": "a83a5718",
   "metadata": {},
   "outputs": [
    {
     "data": {
      "image/png": "[encoded data removed]",
      "text/plain": [
       "<Figure size 640x480 with 1 Axes>"
      ]
     },
     "metadata": {},
     "output_type": "display_data"
    }
   ],
   "source": [
    "plot_line_plots(files, column=\"full_train_total_s\", title=\"total training time\")"
   ]
  },
  {
   "cell_type": "code",
   "execution_count": 28,
   "id": "3815e548",
   "metadata": {},
   "outputs": [
    {
     "data": {
      "image/png": "[encoded data removed]",
      "text/plain": [
       "<Figure size 640x480 with 1 Axes>"
      ]
     },
     "metadata": {},
     "output_type": "display_data"
    }
   ],
   "source": [
    "plot_line_plots(files, column=\"n_boost_per_sec\", title=\"boost steps per second\")"
   ]
  },
  {
   "cell_type": "code",
   "execution_count": null,
   "id": "1e5560e8",
   "metadata": {},
   "outputs": [],
   "source": []
  }
 ],
 "metadata": {
  "kernelspec": {
   "display_name": "xgboost",
   "language": "python",
   "name": "python3"
  },
  "language_info": {
   "codemirror_mode": {
    "name": "ipython",
    "version": 3
   },
   "file_extension": ".py",
   "mimetype": "text/x-python",
   "name": "python",
   "nbconvert_exporter": "python",
   "pygments_lexer": "ipython3",
   "version": "3.10.18"
  }
 },
 "nbformat": 4,
 "nbformat_minor": 5
}
